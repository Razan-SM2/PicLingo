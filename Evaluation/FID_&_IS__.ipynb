{
  "cells": [
    {
      "cell_type": "markdown",
      "metadata": {
        "id": "9SJsIKo390YW"
      },
      "source": [
        "# calculate FID"
      ]
    },
    {
      "cell_type": "code",
      "execution_count": 1,
      "metadata": {
        "colab": {
          "base_uri": "https://localhost:8080/"
        },
        "id": "bQrMVcL_rjur",
        "outputId": "8ee05357-b45b-4761-c99a-9d49cbde6e8b"
      },
      "outputs": [
        {
          "output_type": "stream",
          "name": "stdout",
          "text": [
            "Collecting pytorch-fid\n",
            "  Downloading pytorch_fid-0.3.0-py3-none-any.whl (15 kB)\n",
            "Requirement already satisfied: numpy in /usr/local/lib/python3.10/dist-packages (from pytorch-fid) (1.25.2)\n",
            "Requirement already satisfied: pillow in /usr/local/lib/python3.10/dist-packages (from pytorch-fid) (9.4.0)\n",
            "Requirement already satisfied: scipy in /usr/local/lib/python3.10/dist-packages (from pytorch-fid) (1.11.4)\n",
            "Requirement already satisfied: torch>=1.0.1 in /usr/local/lib/python3.10/dist-packages (from pytorch-fid) (2.1.0+cu121)\n",
            "Requirement already satisfied: torchvision>=0.2.2 in /usr/local/lib/python3.10/dist-packages (from pytorch-fid) (0.16.0+cu121)\n",
            "Requirement already satisfied: filelock in /usr/local/lib/python3.10/dist-packages (from torch>=1.0.1->pytorch-fid) (3.13.1)\n",
            "Requirement already satisfied: typing-extensions in /usr/local/lib/python3.10/dist-packages (from torch>=1.0.1->pytorch-fid) (4.10.0)\n",
            "Requirement already satisfied: sympy in /usr/local/lib/python3.10/dist-packages (from torch>=1.0.1->pytorch-fid) (1.12)\n",
            "Requirement already satisfied: networkx in /usr/local/lib/python3.10/dist-packages (from torch>=1.0.1->pytorch-fid) (3.2.1)\n",
            "Requirement already satisfied: jinja2 in /usr/local/lib/python3.10/dist-packages (from torch>=1.0.1->pytorch-fid) (3.1.3)\n",
            "Requirement already satisfied: fsspec in /usr/local/lib/python3.10/dist-packages (from torch>=1.0.1->pytorch-fid) (2023.6.0)\n",
            "Requirement already satisfied: triton==2.1.0 in /usr/local/lib/python3.10/dist-packages (from torch>=1.0.1->pytorch-fid) (2.1.0)\n",
            "Requirement already satisfied: requests in /usr/local/lib/python3.10/dist-packages (from torchvision>=0.2.2->pytorch-fid) (2.31.0)\n",
            "Requirement already satisfied: MarkupSafe>=2.0 in /usr/local/lib/python3.10/dist-packages (from jinja2->torch>=1.0.1->pytorch-fid) (2.1.5)\n",
            "Requirement already satisfied: charset-normalizer<4,>=2 in /usr/local/lib/python3.10/dist-packages (from requests->torchvision>=0.2.2->pytorch-fid) (3.3.2)\n",
            "Requirement already satisfied: idna<4,>=2.5 in /usr/local/lib/python3.10/dist-packages (from requests->torchvision>=0.2.2->pytorch-fid) (3.6)\n",
            "Requirement already satisfied: urllib3<3,>=1.21.1 in /usr/local/lib/python3.10/dist-packages (from requests->torchvision>=0.2.2->pytorch-fid) (2.0.7)\n",
            "Requirement already satisfied: certifi>=2017.4.17 in /usr/local/lib/python3.10/dist-packages (from requests->torchvision>=0.2.2->pytorch-fid) (2024.2.2)\n",
            "Requirement already satisfied: mpmath>=0.19 in /usr/local/lib/python3.10/dist-packages (from sympy->torch>=1.0.1->pytorch-fid) (1.3.0)\n",
            "Installing collected packages: pytorch-fid\n",
            "Successfully installed pytorch-fid-0.3.0\n"
          ]
        }
      ],
      "source": [
        "!pip install pytorch-fid\n"
      ]
    },
    {
      "cell_type": "code",
      "execution_count": 2,
      "metadata": {
        "id": "___wply4sMoq",
        "colab": {
          "base_uri": "https://localhost:8080/"
        },
        "outputId": "9e9181aa-9ad0-4265-c24e-5bbea0c93811"
      },
      "outputs": [
        {
          "output_type": "stream",
          "name": "stderr",
          "text": [
            "<ipython-input-2-7c65991284c3>:11: DeprecationWarning: ANTIALIAS is deprecated and will be removed in Pillow 10 (2023-07-01). Use LANCZOS or Resampling.LANCZOS instead.\n",
            "  img = img.resize(size, Image.ANTIALIAS)\n"
          ]
        },
        {
          "output_type": "stream",
          "name": "stdout",
          "text": [
            "Resized 000000467511.jpg\n",
            "Resized 000000127955.jpg\n",
            "Resized 000000084650.jpg\n",
            "Resized 000000549738.jpg\n",
            "Resized 000000450488.jpg\n",
            "Resized 000000301376.jpg\n",
            "Resized 000000002592.jpg\n",
            "Resized 000000565012.jpg\n",
            "Resized 000000025181.jpg\n",
            "Resized 000000056545.jpg\n",
            "Resized 000000484415.jpg\n",
            "Resized 000000020059.jpg\n",
            "Resized 000000022623.jpg\n",
            "Resized 000000303653.jpg\n",
            "Resized 000000482978.jpg\n",
            "Resized 000000090891.jpg\n",
            "Resized 000000334521.jpg\n",
            "Resized 000000006213.jpg\n",
            "Resized 000000502136.jpg\n",
            "Resized 000000067315.jpg\n",
            "Resized 000000486104.jpg\n",
            "Resized 000000356424.jpg\n",
            "Resized 000000435880.jpg\n",
            "Resized 000000445722.jpg\n",
            "Resized 000000284725.jpg\n",
            "Resized 000000327769.jpg\n",
            "Resized 000000529762.jpg\n",
            "Resized 000000244379.jpg\n",
            "Resized 000000473118.jpg\n",
            "Resized 000000375078.jpg\n",
            "Resized 000000297562.jpg\n",
            "Resized 000000199055.jpg\n",
            "Resized 000000077460.jpg\n",
            "Resized 000000002587.jpg\n",
            "Resized 000000046048.jpg\n",
            "Resized 000000574702.jpg\n",
            "Resized 000000561889.jpg\n",
            "Resized 000000190756.jpg\n",
            "Resized 000000176799.jpg\n",
            "Resized 000000308545.jpg\n",
            "Resized 000000313454.jpg\n",
            "Resized 000000248334.jpg\n",
            "Resized 000000277005.jpg\n",
            "Resized 000000517056.jpg\n",
            "Resized 000000397303.jpg\n",
            "Resized 000000097022.jpg\n",
            "Resized 000000394206.jpg\n",
            "Resized 000000076625.jpg\n",
            "Resized 000000147740.jpg\n",
            "Resized 000000177015.jpg\n",
            "Resized 000000578922.jpg\n",
            "Resized 000000115118.jpg\n",
            "Resized 000000500478.jpg\n",
            "Resized 000000499109.jpg\n",
            "Resized 000000408830.jpg\n",
            "Resized 000000261712.jpg\n",
            "Resized 000000567011.jpg\n",
            "Resized 000000437110.jpg\n",
            "Resized 000000419408.jpg\n",
            "Resized 000000519688.jpg\n",
            "Resized 000000110359.jpg\n",
            "Resized 000000215245.jpg\n",
            "Resized 000000378099.jpg\n",
            "Resized 000000005060.jpg\n"
          ]
        }
      ],
      "source": [
        "from PIL import Image\n",
        "import os\n",
        "\n",
        "def resize_images(input_folder, output_folder, size=(512, 512)):\n",
        "    if not os.path.exists(output_folder):\n",
        "        os.makedirs(output_folder)\n",
        "\n",
        "    for filename in os.listdir(input_folder):\n",
        "        try:\n",
        "            with Image.open(os.path.join(input_folder, filename)) as img:\n",
        "                img = img.resize(size, Image.ANTIALIAS)\n",
        "                img.save(os.path.join(output_folder, filename))\n",
        "                print(f\"Resized {filename}\")\n",
        "        except Exception as e:\n",
        "            print(f\"Error processing {filename}: {e}\")\n",
        "\n",
        "# Usage example:\n",
        "input_folder = \"/content/dataset\"\n",
        "output_folder = \"/content/dataset_resized\"\n",
        "resize_images(input_folder, output_folder)\n",
        "\n"
      ]
    },
    {
      "cell_type": "code",
      "source": [
        "from PIL import Image\n",
        "import os\n",
        "\n",
        "def resize_images(input_folder, output_folder, size=(512, 512)):\n",
        "    if not os.path.exists(output_folder):\n",
        "        os.makedirs(output_folder)\n",
        "\n",
        "    for filename in os.listdir(input_folder):\n",
        "        try:\n",
        "            with Image.open(os.path.join(input_folder, filename)) as img:\n",
        "                img = img.resize(size, Image.ANTIALIAS)\n",
        "                img.save(os.path.join(output_folder, filename))\n",
        "                print(f\"Resized {filename}\")\n",
        "        except Exception as e:\n",
        "            print(f\"Error processing {filename}: {e}\")\n",
        "\n",
        "# Usage example:\n",
        "input_folder = \"/content/generated\"\n",
        "output_folder = \"/content/generated_resized\"\n",
        "resize_images(input_folder, output_folder)"
      ],
      "metadata": {
        "id": "5ed9MIULHwAw",
        "colab": {
          "base_uri": "https://localhost:8080/"
        },
        "outputId": "3ccf5b69-c227-4c4c-ce70-69e2adef222e"
      },
      "execution_count": 3,
      "outputs": [
        {
          "output_type": "stream",
          "name": "stderr",
          "text": [
            "<ipython-input-3-e4cd742da2c8>:11: DeprecationWarning: ANTIALIAS is deprecated and will be removed in Pillow 10 (2023-07-01). Use LANCZOS or Resampling.LANCZOS instead.\n",
            "  img = img.resize(size, Image.ANTIALIAS)\n"
          ]
        },
        {
          "output_type": "stream",
          "name": "stdout",
          "text": [
            "Resized image_41.png\n",
            "Resized image_6.png\n",
            "Resized image_17.png\n",
            "Resized image_25.png\n",
            "Resized image_55.png\n",
            "Resized image_24.png\n",
            "Resized image_0.png\n",
            "Resized image_49.png\n",
            "Resized image_57.png\n",
            "Resized image_36.png\n",
            "Resized image_16.png\n",
            "Resized image_2.png\n",
            "Resized image_7.png\n",
            "Resized image_47.png\n",
            "Resized image_42.png\n",
            "Resized image_44.png\n",
            "Resized image_29.png\n",
            "Resized image_63.png\n",
            "Resized image_51.png\n",
            "Resized image_48.png\n",
            "Resized image_4.png\n",
            "Resized image_50.png\n",
            "Resized image_10.png\n",
            "Resized image_9.png\n",
            "Resized image_37.png\n",
            "Resized image_31.png\n",
            "Resized image_5.png\n",
            "Resized image_14.png\n",
            "Resized image_19.png\n",
            "Resized image_39.png\n",
            "Resized image_43.png\n",
            "Resized image_62.png\n",
            "Resized image_21.png\n",
            "Resized image_13.png\n",
            "Resized image_38.png\n",
            "Resized image_30.png\n",
            "Resized image_26.png\n",
            "Resized image_1.png\n",
            "Resized image_32.png\n",
            "Resized image_33.png\n",
            "Resized image_61.png\n",
            "Resized image_53.png\n",
            "Resized image_27.png\n",
            "Resized image_28.png\n",
            "Resized image_35.png\n",
            "Resized image_52.png\n",
            "Resized image_15.png\n",
            "Resized image_40.png\n",
            "Resized image_56.png\n",
            "Resized image_3.png\n",
            "Resized image_59.png\n",
            "Resized image_60.png\n",
            "Resized image_22.png\n",
            "Resized image_54.png\n",
            "Resized image_18.png\n",
            "Resized image_23.png\n",
            "Resized image_20.png\n",
            "Resized image_11.png\n",
            "Resized image_46.png\n",
            "Resized image_45.png\n",
            "Resized image_8.png\n",
            "Resized image_12.png\n",
            "Resized image_34.png\n",
            "Resized image_58.png\n"
          ]
        }
      ]
    },
    {
      "cell_type": "code",
      "execution_count": 4,
      "metadata": {
        "colab": {
          "base_uri": "https://localhost:8080/"
        },
        "id": "J9GJ6xuJro4G",
        "outputId": "c0fe713d-d57e-4d2c-f629-ea91f1b8a25f"
      },
      "outputs": [
        {
          "output_type": "stream",
          "name": "stdout",
          "text": [
            "Downloading: \"https://github.com/mseitzer/pytorch-fid/releases/download/fid_weights/pt_inception-2015-12-05-6726825d.pth\" to /root/.cache/torch/hub/checkpoints/pt_inception-2015-12-05-6726825d.pth\n",
            "100% 91.2M/91.2M [00:00<00:00, 247MB/s]\n",
            "100% 2/2 [00:01<00:00,  1.32it/s]\n",
            "100% 2/2 [00:01<00:00,  1.69it/s]\n",
            "FID:  1.8251794486767352\n"
          ]
        }
      ],
      "source": [
        "!python -m pytorch_fid /content/dataset_resized /content/generated_resized --dim 64"
      ]
    },
    {
      "cell_type": "markdown",
      "metadata": {
        "id": "r6glJ4Nyr3fw"
      },
      "source": [
        "\n",
        "\n",
        "---\n",
        "\n"
      ]
    },
    {
      "cell_type": "markdown",
      "metadata": {
        "id": "KP3dlCinr4Nl"
      },
      "source": [
        "# IS"
      ]
    },
    {
      "cell_type": "code",
      "source": [
        "!pip install torch"
      ],
      "metadata": {
        "colab": {
          "base_uri": "https://localhost:8080/"
        },
        "id": "gRfytZtLZO7s",
        "outputId": "380bb5e6-a53f-4fe0-d10a-6a5b5103a1bd"
      },
      "execution_count": 5,
      "outputs": [
        {
          "output_type": "stream",
          "name": "stdout",
          "text": [
            "Requirement already satisfied: torch in /usr/local/lib/python3.10/dist-packages (2.1.0+cu121)\n",
            "Requirement already satisfied: filelock in /usr/local/lib/python3.10/dist-packages (from torch) (3.13.1)\n",
            "Requirement already satisfied: typing-extensions in /usr/local/lib/python3.10/dist-packages (from torch) (4.10.0)\n",
            "Requirement already satisfied: sympy in /usr/local/lib/python3.10/dist-packages (from torch) (1.12)\n",
            "Requirement already satisfied: networkx in /usr/local/lib/python3.10/dist-packages (from torch) (3.2.1)\n",
            "Requirement already satisfied: jinja2 in /usr/local/lib/python3.10/dist-packages (from torch) (3.1.3)\n",
            "Requirement already satisfied: fsspec in /usr/local/lib/python3.10/dist-packages (from torch) (2023.6.0)\n",
            "Requirement already satisfied: triton==2.1.0 in /usr/local/lib/python3.10/dist-packages (from torch) (2.1.0)\n",
            "Requirement already satisfied: MarkupSafe>=2.0 in /usr/local/lib/python3.10/dist-packages (from jinja2->torch) (2.1.5)\n",
            "Requirement already satisfied: mpmath>=0.19 in /usr/local/lib/python3.10/dist-packages (from sympy->torch) (1.3.0)\n"
          ]
        }
      ]
    },
    {
      "cell_type": "code",
      "execution_count": 28,
      "metadata": {
        "colab": {
          "base_uri": "https://localhost:8080/"
        },
        "id": "bsQY85YCr2jq",
        "outputId": "0c9f4ae9-20e0-4984-ad4b-3f64b4c0f31e"
      },
      "outputs": [
        {
          "output_type": "stream",
          "name": "stdout",
          "text": [
            "Cloning into 'inception-score-pytorch'...\n",
            "remote: Enumerating objects: 43, done.\u001b[K\n",
            "remote: Counting objects:   6% (1/15)\u001b[K\rremote: Counting objects:  13% (2/15)\u001b[K\rremote: Counting objects:  20% (3/15)\u001b[K\rremote: Counting objects:  26% (4/15)\u001b[K\rremote: Counting objects:  33% (5/15)\u001b[K\rremote: Counting objects:  40% (6/15)\u001b[K\rremote: Counting objects:  46% (7/15)\u001b[K\rremote: Counting objects:  53% (8/15)\u001b[K\rremote: Counting objects:  60% (9/15)\u001b[K\rremote: Counting objects:  66% (10/15)\u001b[K\rremote: Counting objects:  73% (11/15)\u001b[K\rremote: Counting objects:  80% (12/15)\u001b[K\rremote: Counting objects:  86% (13/15)\u001b[K\rremote: Counting objects:  93% (14/15)\u001b[K\rremote: Counting objects: 100% (15/15)\u001b[K\rremote: Counting objects: 100% (15/15), done.\u001b[K\n",
            "remote: Compressing objects: 100% (4/4), done.\u001b[K\n",
            "remote: Total 43 (delta 12), reused 11 (delta 11), pack-reused 28\u001b[K\n",
            "Receiving objects: 100% (43/43), 9.72 KiB | 905.00 KiB/s, done.\n",
            "Resolving deltas: 100% (21/21), done.\n",
            "/content/inception-score-pytorch/inception-score-pytorch/inception-score-pytorch/inception-score-pytorch/inception-score-pytorch/inception-score-pytorch/inception-score-pytorch/inception-score-pytorch/inception-score-pytorch/inception-score-pytorch/inception-score-pytorch/inception-score-pytorch/inception-score-pytorch/inception-score-pytorch/inception-score-pytorch/inception-score-pytorch/inception-score-pytorch/inception-score-pytorch/inception-score-pytorch/inception-score-pytorch\n"
          ]
        },
        {
          "output_type": "stream",
          "name": "stderr",
          "text": [
            "/content/inception-score-pytorch/inception_score.py:44: UserWarning: Implicit dimension choice for softmax has been deprecated. Change the call to include dim=X as an argument.\n",
            "  return F.softmax(x).data.cpu().numpy()\n"
          ]
        },
        {
          "output_type": "stream",
          "name": "stdout",
          "text": [
            "Inception Score: 4.262914025125293\n"
          ]
        }
      ],
      "source": [
        "# Step 1: Clone the repository\n",
        "!git clone https://github.com/sbarratt/inception-score-pytorch.git\n",
        "\n",
        "# Step 2: Navigate to the repository directory\n",
        "%cd inception-score-pytorch\n",
        "\n",
        "# Step 3: Load necessary libraries\n",
        "import os\n",
        "import numpy as np\n",
        "from PIL import Image\n",
        "import torchvision.transforms as transforms\n",
        "import torch\n",
        "\n",
        "# Step 4: Load the images from your folder\n",
        "image_folder = \"/content/generated\"  # Replace \"your_image_folder\" with the path to your image folder\n",
        "image_paths = [os.path.join(image_folder, file) for file in os.listdir(image_folder)]\n",
        "\n",
        "# Step 5: Preprocess the images\n",
        "def preprocess_image(image_path):\n",
        "    image = Image.open(image_path)\n",
        "    image = image.convert(\"RGB\")  # Convert image to RGB mode to ensure 3 channels\n",
        "    preprocess = transforms.Compose([\n",
        "        transforms.Resize((299, 299)),\n",
        "        transforms.ToTensor(),\n",
        "        transforms.Normalize(mean=[0.5, 0.5, 0.5], std=[0.5, 0.5, 0.5])\n",
        "    ])\n",
        "    return preprocess(image).unsqueeze(0)\n",
        "\n",
        "# Step 6: Calculate Inception Score\n",
        "from inception_score import inception_score\n",
        "\n",
        "# Load images and preprocess them\n",
        "images = [preprocess_image(image_path) for image_path in image_paths]\n",
        "\n",
        "# Concatenate images along the batch dimension\n",
        "images = torch.cat(images, dim=0)\n",
        "\n",
        "# Calculate Inception Score\n",
        "score_mean, score_std = inception_score(images, cuda=True, batch_size=32, resize=True, splits=10)\n",
        "\n",
        "# Print the Inception Score\n",
        "print(\"Inception Score:\", score_mean)\n",
        "\n",
        "\n"
      ]
    }
  ],
  "metadata": {
    "accelerator": "GPU",
    "colab": {
      "gpuType": "T4",
      "provenance": []
    },
    "kernelspec": {
      "display_name": "Python 3",
      "name": "python3"
    },
    "language_info": {
      "name": "python"
    }
  },
  "nbformat": 4,
  "nbformat_minor": 0
}