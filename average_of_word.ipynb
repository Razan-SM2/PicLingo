{
  "nbformat": 4,
  "nbformat_minor": 0,
  "metadata": {
    "colab": {
      "provenance": []
    },
    "kernelspec": {
      "name": "python3",
      "display_name": "Python 3"
    },
    "language_info": {
      "name": "python"
    }
  },
  "cells": [
    {
      "cell_type": "code",
      "source": [
        "captions = [\n",
        "    'Giraffes and a bird behind a chain link fence at a zoo',\n",
        "    'A woman walking while carrying bananas on her hat.',\n",
        "    'A train with headlights traveling on a track past pedestrians.',\n",
        "    'A refrigerator next to a red wall in the kitchen.',\n",
        "    'A little child riding on top of a white horse.',\n",
        "    'A shower curtain sits open in an empty and clean bathroom.',\n",
        "    'a cat laying on a luggage bag on the ground',\n",
        "    'A hand is reaching out to the top if a toilet.',\n",
        "    'Two zebras graze on grass inside of an enclosure.',\n",
        "    'an image of a subway bus going thru the subway station',\n",
        "    'A couple of people skateboarding in a graffiti filled area.',\n",
        "    'Many people standing in a field flying kites.',\n",
        "    'A close-up picture of a man wearing a tie.',\n",
        "    'A train station with an awning is depicted with a train on the right platform.',\n",
        "    'a train of many colors is coming down the track',\n",
        "    'Five men are selling a large amount of bananas.',\n",
        "    'a colorful motorcycle sitting next to a fence',\n",
        "    'A kitchen filled with wooden cabinets and a microwave oven.',\n",
        "    'a skateboarder in a blue jacket is doing a trick',\n",
        "    'A street area with a building and cars.',\n",
        "    'A little girl sitting on top of a bed next to a lamp.',\n",
        "    'This highway is empty this early on the morning,',\n",
        "    'A man sitting in front of a plate of food.',\n",
        "    'Two men sell ties at an outdoor market.',\n",
        "    'A baseball player is winding up for the pitch.',\n",
        "    'Several motor scooters are jammed into a small market street.',\n",
        "    'A man using his laptop computer while a cat sits on his lap.',\n",
        "    'A man riding a skateboard over a rope.',\n",
        "    'a boat filled with people going down a river',\n",
        "    'A little baby is getting a haircut in a pink chair.',\n",
        "    'A cat lying down in a sink in a bathroom.',\n",
        "    'Closeup of a cellphone device with various buttons.',\n",
        "    'Decorated coffee cup and knife sitting on a patterned surface.',\n",
        "    'A man standing at a podium at a USINDO luncheon',\n",
        "    'A large building with a tower that has a clock.',\n",
        "    'A plate of food that includes pickles and a sandwich.',\n",
        "    \"A group of zebra's playing and grazing in a field.\",\n",
        "    'A computer keyboard sitting next to a mouse on a wooden table.',\n",
        "    'A man flying through the air while riding a bike.',\n",
        "    'a digitally manipulated image of cars on a highway at night in the city',\n",
        "    'Two women handing out cake on plates on a dining table.',\n",
        "    'Two giraffes at the zoo during the day.',\n",
        "    'Plate of food with broccoli on glass plate with table cloth',\n",
        "    'A man sitting at a table eating a hamburger and fries.',\n",
        "    'A man in green shirt with cellphone reflecting in a mirror.',\n",
        "    'A dried black flower in a long, tall black & white vase.',\n",
        "    'Small bedroom with a bed and dresser with a small monitor on top of it.',\n",
        "    'there are two brown bears that are playing together in the water',\n",
        "    'A baseball player holding a bat while standing on a field.',\n",
        "    'A person on skateboard skating on the pavement.',\n",
        "    'A kite is flying in a clear sky.',\n",
        "    'A biker chic in high heel boots is talking to a man at a gas pump.',\n",
        "    'a public transit bus on a city street',\n",
        "    'A young man walking across a street at a crosswalk.',\n",
        "    'A group of people riding in the back of a truck.',\n",
        "    'some people are sitting on a trolly outside',\n",
        "    'a close up of a banana and a doughnut in a plastic bag',\n",
        "    'A woman wearing a blue coat holds a furry animal in her arms',\n",
        "    \"two ladies riding horses there's a reflection of one of them in a mirror\",\n",
        "    'A vase of red flowers sits on a bathroom countertop.',\n",
        "    'A gray bird is standing on small brown branch.',\n",
        "    'A building wall and pair of doors that are open, along with vases of flowers on the outside of the building.',\n",
        "    'A person riding a beautiful wave very smooth',\n",
        "    'Commercial jet passing overhead on bright cloudless sky.'\n",
        "]\n",
        "\n",
        "# Calculate average words per caption\n",
        "avg_words = average_words_per_caption(captions)\n",
        "print(\"Average number of words per caption:\", avg_words)\n"
      ],
      "metadata": {
        "colab": {
          "base_uri": "https://localhost:8080/"
        },
        "id": "75lRkgj36o4w",
        "outputId": "372d8e72-32c0-43d1-c6d3-9d5566061817"
      },
      "execution_count": 3,
      "outputs": [
        {
          "output_type": "stream",
          "name": "stdout",
          "text": [
            "Average number of words per caption: 10.484375\n"
          ]
        }
      ]
    }
  ]
}